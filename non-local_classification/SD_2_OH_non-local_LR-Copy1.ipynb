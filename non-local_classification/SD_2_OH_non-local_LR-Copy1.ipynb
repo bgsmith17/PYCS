{
 "cells": [
  {
   "cell_type": "code",
   "id": "43a6d61b",
   "metadata": {
    "ExecuteTime": {
     "end_time": "2024-09-26T00:56:29.051083Z",
     "start_time": "2024-09-26T00:56:29.031083Z"
    }
   },
   "source": [
    "import pandas as pd\n",
    "\n",
    "data = pd.read_csv('../non_annualized_SD_max_rounded_yields.csv')\n",
    "data.head()"
   ],
   "outputs": [
    {
     "data": {
      "text/plain": [
       "   Yield (tons/acre)  Total Radiation (W/m^2)  Total Rainfall (mm)  \\\n",
       "0                  5                132123.53               966.71   \n",
       "1                  5                132123.53               966.71   \n",
       "2                  5                132123.53               966.71   \n",
       "3                  5                132123.53               966.71   \n",
       "4                  5                132123.53               966.71   \n",
       "\n",
       "   Avg Min Temp (C)  Avg Max Temp (C)  \n",
       "0          2.559024         14.859927  \n",
       "1          2.559024         14.859927  \n",
       "2          2.559024         14.859927  \n",
       "3          2.559024         14.859927  \n",
       "4          2.559024         14.859927  "
      ],
      "text/html": [
       "<div>\n",
       "<style scoped>\n",
       "    .dataframe tbody tr th:only-of-type {\n",
       "        vertical-align: middle;\n",
       "    }\n",
       "\n",
       "    .dataframe tbody tr th {\n",
       "        vertical-align: top;\n",
       "    }\n",
       "\n",
       "    .dataframe thead th {\n",
       "        text-align: right;\n",
       "    }\n",
       "</style>\n",
       "<table border=\"1\" class=\"dataframe\">\n",
       "  <thead>\n",
       "    <tr style=\"text-align: right;\">\n",
       "      <th></th>\n",
       "      <th>Yield (tons/acre)</th>\n",
       "      <th>Total Radiation (W/m^2)</th>\n",
       "      <th>Total Rainfall (mm)</th>\n",
       "      <th>Avg Min Temp (C)</th>\n",
       "      <th>Avg Max Temp (C)</th>\n",
       "    </tr>\n",
       "  </thead>\n",
       "  <tbody>\n",
       "    <tr>\n",
       "      <th>0</th>\n",
       "      <td>5</td>\n",
       "      <td>132123.53</td>\n",
       "      <td>966.71</td>\n",
       "      <td>2.559024</td>\n",
       "      <td>14.859927</td>\n",
       "    </tr>\n",
       "    <tr>\n",
       "      <th>1</th>\n",
       "      <td>5</td>\n",
       "      <td>132123.53</td>\n",
       "      <td>966.71</td>\n",
       "      <td>2.559024</td>\n",
       "      <td>14.859927</td>\n",
       "    </tr>\n",
       "    <tr>\n",
       "      <th>2</th>\n",
       "      <td>5</td>\n",
       "      <td>132123.53</td>\n",
       "      <td>966.71</td>\n",
       "      <td>2.559024</td>\n",
       "      <td>14.859927</td>\n",
       "    </tr>\n",
       "    <tr>\n",
       "      <th>3</th>\n",
       "      <td>5</td>\n",
       "      <td>132123.53</td>\n",
       "      <td>966.71</td>\n",
       "      <td>2.559024</td>\n",
       "      <td>14.859927</td>\n",
       "    </tr>\n",
       "    <tr>\n",
       "      <th>4</th>\n",
       "      <td>5</td>\n",
       "      <td>132123.53</td>\n",
       "      <td>966.71</td>\n",
       "      <td>2.559024</td>\n",
       "      <td>14.859927</td>\n",
       "    </tr>\n",
       "  </tbody>\n",
       "</table>\n",
       "</div>"
      ]
     },
     "execution_count": 2,
     "metadata": {},
     "output_type": "execute_result"
    }
   ],
   "execution_count": 2
  },
  {
   "cell_type": "code",
   "execution_count": 2,
   "id": "e8ed05b0",
   "metadata": {},
   "outputs": [],
   "source": [
    "# from sdv.tabular import TVAE\n",
    "\n",
    "# model = TVAE()\n",
    "# model.fit(data)"
   ]
  },
  {
   "cell_type": "code",
   "execution_count": 3,
   "id": "b2fc1d37",
   "metadata": {},
   "outputs": [],
   "source": [
    "#new_data = model.sample(2000)"
   ]
  },
  {
   "cell_type": "code",
   "execution_count": 4,
   "id": "8fe53469",
   "metadata": {},
   "outputs": [],
   "source": [
    "#new_data.to_csv('data/VAE_synth2k_0721_KY_WI_rf_dt.csv')\n",
    "#new_data.head()"
   ]
  },
  {
   "cell_type": "code",
   "id": "d95ff074",
   "metadata": {
    "ExecuteTime": {
     "end_time": "2024-09-26T00:56:40.457085Z",
     "start_time": "2024-09-26T00:56:40.449083Z"
    }
   },
   "source": [
    "# get aggregate data\n",
    "targetDataLoc = '../data/non_annualized_OH_max_rounded_yields.csv'\n",
    "#aggDataLoc = 'data/synth1_GA_only_063022.csv'\n",
    "\n",
    "aggDf = data #pd.read_csv(aggDataLoc)\n",
    "#aggDf = aggDf.drop(\"Unnamed: 0\",axis=1)\n",
    "targetDf = pd.read_csv(targetDataLoc)\n",
    "#targetDf = targetDf.drop(\"Unnamed: 0\",axis=1)"
   ],
   "outputs": [],
   "execution_count": 3
  },
  {
   "cell_type": "code",
   "id": "0f1df971",
   "metadata": {
    "ExecuteTime": {
     "end_time": "2024-09-26T00:56:44.935583Z",
     "start_time": "2024-09-26T00:56:42.273084Z"
    }
   },
   "source": [
    "############## imports\n",
    "# general\n",
    "import statistics\n",
    "import datetime\n",
    "#from sklearn.externals import joblib # save and load models\n",
    "import random\n",
    "# data manipulation and exploration\n",
    "import pandas as pd\n",
    "import numpy as np\n",
    "import matplotlib.pyplot as plt\n",
    "import matplotlib\n",
    "\n",
    "## machine learning stuff\n",
    "# preprocessing\n",
    "from sklearn import preprocessing\n",
    "# feature selection\n",
    "from sklearn.feature_selection import SelectKBest, SelectPercentile\n",
    "from sklearn.feature_selection import f_regression\n",
    "# pipeline\n",
    "from sklearn.pipeline import Pipeline\n",
    "# train/testing\n",
    "from sklearn.model_selection import train_test_split, KFold, GridSearchCV, cross_val_score  \n",
    "# error calculations\n",
    "from sklearn.metrics import mean_squared_error, mean_absolute_error, r2_score\n",
    "# models\n",
    "from sklearn.linear_model import LogisticRegression # logistic regression\n",
    "from sklearn.linear_model import BayesianRidge #bayesisan ridge regression\n",
    "from sklearn.svm import SVR  # support vector machines regression\n",
    "from sklearn.gaussian_process import GaussianProcessRegressor # import GaussianProcessRegressor\n",
    "from sklearn.neighbors import KNeighborsRegressor # k-nearest neightbors for regression\n",
    "from sklearn.neural_network import MLPRegressor # neural network for regression\n",
    "from sklearn.neural_network import MLPClassifier # neural network for classification\n",
    "from sklearn.tree import DecisionTreeRegressor # decision tree regressor\n",
    "from sklearn.tree import DecisionTreeClassifier\n",
    "from sklearn.ensemble import RandomForestRegressor  # random forest regression\n",
    "from sklearn.ensemble import RandomForestClassifier\n",
    "from sklearn.ensemble import AdaBoostClassifier # adaboost for classification\n",
    "import xgboost as xgb\n",
    "# saving models\n",
    "# from sklearn.externals import joblib\n",
    "import joblib\n",
    "\n",
    "# import the API\n",
    "APILoc = 'API/'\n",
    "\n",
    "import sys\n",
    "sys.path.insert(0, APILoc)\n",
    "\n",
    "from API import *"
   ],
   "outputs": [],
   "execution_count": 4
  },
  {
   "cell_type": "code",
   "id": "079f1aa2",
   "metadata": {
    "ExecuteTime": {
     "end_time": "2024-09-26T00:56:51.636084Z",
     "start_time": "2024-09-26T00:56:51.628083Z"
    }
   },
   "source": [
    "# filter out the features that will not be used by the machine learning models\n",
    "\n",
    "# the features to keep:\n",
    "# xColumnsToKeep = [\"Julian Day\", \"Time Since Sown (Days)\", \"Time Since Last Harvest (Days)\", \"Total Radiation (MJ/m^2)\",\n",
    "#                \"Total Rainfall (mm)\", \"Avg Air Temp (C)\", \"Avg Min Temp (C)\", \"Avg Max Temp (C)\",\n",
    "#                  \"Avg Soil Moisture (%)\", \"Day Length (hrs)\"], \"Percent Cover (%)\"]\n",
    "\n",
    "xColumnsToKeep = [\"Total Radiation (W/m^2)\",\"Total Rainfall (mm)\", \"Avg Max Temp (C)\", \"Avg Min Temp (C)\"]\n",
    "\n",
    "\n",
    "#xColumnsToKeep = [\"Julian Day\", \"Time Since Sown (Days)\", \"Total Radiation (MJ/m^2)\", \"Total Rainfall (mm)\"]\n",
    "\n",
    "# the target to keep\n",
    "yColumnsToKeep = [\"Yield (tons/acre)\"]\n",
    "\n",
    "# get a dataframe containing the features and the targets\n",
    "xDf = aggDf[xColumnsToKeep]\n",
    "test_xDf = targetDf[xColumnsToKeep]\n",
    "yDf = aggDf[yColumnsToKeep]\n",
    "test_yDf = targetDf[yColumnsToKeep]\n",
    "\n",
    "# reset the index\n",
    "xDf = xDf.reset_index(drop=True)\n",
    "yDf = yDf.reset_index(drop=True)\n",
    "test_xDf = test_xDf.reset_index(drop=True)\n",
    "test_yDf = test_yDf.reset_index(drop=True)\n",
    "\n",
    "pd.set_option('display.max_rows', 2500)\n",
    "pd.set_option('display.max_columns', 500)\n",
    "\n",
    "xCols = list(xDf)"
   ],
   "outputs": [],
   "execution_count": 6
  },
  {
   "cell_type": "code",
   "id": "d48fcfb5",
   "metadata": {
    "ExecuteTime": {
     "end_time": "2024-09-26T00:56:53.417091Z",
     "start_time": "2024-09-26T00:56:53.407088Z"
    }
   },
   "source": [
    "# hide the warnings because training the neural network caues lots of warnings.\n",
    "import warnings\n",
    "warnings.filterwarnings('ignore')\n",
    "\n",
    "# make the parameter grids for sklearn's gridsearchcv\n",
    "rfParamGrid = {\n",
    "        'model__n_estimators': [5, 10, 25, 50, 100], # Number of estimators\n",
    "        'model__max_depth': [5, 10, 15, 20], # Maximum depth of the tree\n",
    "        'model__criterion': [\"gini\"]\n",
    "    }\n",
    "knnParamGrid ={\n",
    "        'model__n_neighbors':[2,5,10],\n",
    "        'model__weights': ['uniform', 'distance'],\n",
    "        'model__leaf_size': [5, 10, 30, 50]    \n",
    "    }\n",
    "svrParamGrid = {\n",
    "        'model__kernel': ['linear', 'poly', 'rbf', 'sigmoid'],\n",
    "        'model__C': [0.1, 1.0, 5.0, 10.0],\n",
    "        'model__gamma': [\"scale\", \"auto\"],\n",
    "        'model__degree': [2,3,4,5]\n",
    "    }\n",
    "nnParamGrid = {\n",
    "        'model__hidden_layer_sizes':[(3), (5), (10), (3,3), (5,5), (7,7)],\n",
    "        'model__solver': ['sgd', 'adam'],\n",
    "        'model__learning_rate' : ['constant', 'invscaling', 'adaptive'],\n",
    "        'model__learning_rate_init': [0.1, 0.01, 0.001]      \n",
    "    }\n",
    "\n",
    "linRegParamGrid = {}\n",
    "\n",
    "bayesParamGrid={\n",
    "        'model__n_iter':[100,300,500]\n",
    "    }\n",
    "\n",
    "dtParamGrid = {\n",
    "    'model__criterion': ['gini'],\n",
    "    'model__max_depth': [5,10,25,50,100]\n",
    "    }\n",
    "\n",
    "aModelList = [#(RandomForestClassifier(), rfParamGrid, \"rfTup.pkl\"),\n",
    "              #(KNeighborsRegressor(), knnParamGrid, \"knnTup.pkl\"),\n",
    "              #(SVR(), svrParamGrid, \"svrTup.pkl\"),\n",
    "             #(MLPClassifier(), nnParamGrid, \"nnTup.pkl\")]#,\n",
    "             (LogisticRegression(), linRegParamGrid, \"linRegTup.pkl\")]#,\n",
    "             #(BayesianRidge(), bayesParamGrid, \"bayesTup.pkl\"),\n",
    "             #(DecisionTreeClassifier(), dtParamGrid, \"dtTup.pkl\")]\n",
    "             #(xgb.XGBClassifier(), xgbParamGrid, \"xgbTup.pkl\")]\n",
    "\n",
    "N = 10\n",
    "workingDir = 'working_dir'\n",
    "numFeatures = 4 # 11"
   ],
   "outputs": [],
   "execution_count": 7
  },
  {
   "cell_type": "code",
   "id": "52261c51",
   "metadata": {
    "ExecuteTime": {
     "end_time": "2024-09-26T00:57:00.338084Z",
     "start_time": "2024-09-26T00:56:57.489084Z"
    }
   },
   "source": [
    "saveMLResults(test_xDf, test_yDf, N, xDf, yDf, aModelList, workingDir, numFeatures, printResults=True)"
   ],
   "outputs": [
    {
     "name": "stdout",
     "output_type": "stream",
     "text": [
      "model:  linRegTup\n",
      "Avg MAE:  953.99\n",
      "Avg R squared:  -0.122\n",
      "Best MAE:  782.258\n",
      "Best R squared:  0.046\n",
      "Parameters of the best model:  {}\n",
      "Features selected by best model:  ['Total Radiation (W/m^2)', 'Total Rainfall (mm)', 'Avg Max Temp (C)', 'Avg Min Temp (C)']\n",
      "Accuracy:  0.6437246963562753\n",
      "f1 score:  0.2191197153967072\n",
      "mcc:  0.3169182449599465\n",
      " \n",
      "test results on our test data: \n"
     ]
    },
    {
     "data": {
      "text/plain": [
       "<Figure size 640x480 with 2 Axes>"
      ],
      "image/png": "[encoded data removed]"
     },
     "metadata": {},
     "output_type": "display_data"
    },
    {
     "name": "stdout",
     "output_type": "stream",
     "text": [
      "results:\n",
      "MAE:  0.9846153846153847\n",
      "R sq:  -2.6697293456172937\n",
      "accuracy score for DA/TDA:  0.34335664335664334\n"
     ]
    }
   ],
   "execution_count": 8
  },
  {
   "cell_type": "code",
   "execution_count": null,
   "id": "71ca6fda",
   "metadata": {},
   "outputs": [],
   "source": []
  }
 ],
 "metadata": {
  "kernelspec": {
   "display_name": "Python 3 (ipykernel)",
   "language": "python",
   "name": "python3"
  },
  "language_info": {
   "codemirror_mode": {
    "name": "ipython",
    "version": 3
   },
   "file_extension": ".py",
   "mimetype": "text/x-python",
   "name": "python",
   "nbconvert_exporter": "python",
   "pygments_lexer": "ipython3",
   "version": "3.9.13"
  }
 },
 "nbformat": 4,
 "nbformat_minor": 5
}
